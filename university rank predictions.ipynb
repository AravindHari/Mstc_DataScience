{
 "cells": [
  {
   "cell_type": "code",
   "execution_count": 3,
   "metadata": {},
   "outputs": [],
   "source": [
    "import pandas as pd\n",
    "import numpy as np\n",
    "import matplotlib.pyplot as plt\n",
    "import seaborn as sns\n",
    "%matplotlib inline"
   ]
  },
  {
   "cell_type": "code",
   "execution_count": 4,
   "metadata": {},
   "outputs": [],
   "source": [
    "df=pd.read_csv(\"C:\\\\Users\\\\HP\\\\Downloads\\\\cwurData.csv\")"
   ]
  },
  {
   "cell_type": "code",
   "execution_count": 5,
   "metadata": {},
   "outputs": [
    {
     "data": {
      "text/html": [
       "<div>\n",
       "<style scoped>\n",
       "    .dataframe tbody tr th:only-of-type {\n",
       "        vertical-align: middle;\n",
       "    }\n",
       "\n",
       "    .dataframe tbody tr th {\n",
       "        vertical-align: top;\n",
       "    }\n",
       "\n",
       "    .dataframe thead th {\n",
       "        text-align: right;\n",
       "    }\n",
       "</style>\n",
       "<table border=\"1\" class=\"dataframe\">\n",
       "  <thead>\n",
       "    <tr style=\"text-align: right;\">\n",
       "      <th></th>\n",
       "      <th>world_rank</th>\n",
       "      <th>institution</th>\n",
       "      <th>country</th>\n",
       "      <th>national_rank</th>\n",
       "      <th>quality_of_education</th>\n",
       "      <th>alumni_employment</th>\n",
       "      <th>quality_of_faculty</th>\n",
       "      <th>publications</th>\n",
       "      <th>influence</th>\n",
       "      <th>citations</th>\n",
       "      <th>broad_impact</th>\n",
       "      <th>patents</th>\n",
       "      <th>score</th>\n",
       "      <th>year</th>\n",
       "    </tr>\n",
       "  </thead>\n",
       "  <tbody>\n",
       "    <tr>\n",
       "      <td>0</td>\n",
       "      <td>1</td>\n",
       "      <td>Harvard University</td>\n",
       "      <td>USA</td>\n",
       "      <td>1</td>\n",
       "      <td>7</td>\n",
       "      <td>9</td>\n",
       "      <td>1</td>\n",
       "      <td>1</td>\n",
       "      <td>1</td>\n",
       "      <td>1</td>\n",
       "      <td>NaN</td>\n",
       "      <td>5</td>\n",
       "      <td>100.00</td>\n",
       "      <td>2012</td>\n",
       "    </tr>\n",
       "    <tr>\n",
       "      <td>1</td>\n",
       "      <td>2</td>\n",
       "      <td>Massachusetts Institute of Technology</td>\n",
       "      <td>USA</td>\n",
       "      <td>2</td>\n",
       "      <td>9</td>\n",
       "      <td>17</td>\n",
       "      <td>3</td>\n",
       "      <td>12</td>\n",
       "      <td>4</td>\n",
       "      <td>4</td>\n",
       "      <td>NaN</td>\n",
       "      <td>1</td>\n",
       "      <td>91.67</td>\n",
       "      <td>2012</td>\n",
       "    </tr>\n",
       "    <tr>\n",
       "      <td>2</td>\n",
       "      <td>3</td>\n",
       "      <td>Stanford University</td>\n",
       "      <td>USA</td>\n",
       "      <td>3</td>\n",
       "      <td>17</td>\n",
       "      <td>11</td>\n",
       "      <td>5</td>\n",
       "      <td>4</td>\n",
       "      <td>2</td>\n",
       "      <td>2</td>\n",
       "      <td>NaN</td>\n",
       "      <td>15</td>\n",
       "      <td>89.50</td>\n",
       "      <td>2012</td>\n",
       "    </tr>\n",
       "    <tr>\n",
       "      <td>3</td>\n",
       "      <td>4</td>\n",
       "      <td>University of Cambridge</td>\n",
       "      <td>United Kingdom</td>\n",
       "      <td>1</td>\n",
       "      <td>10</td>\n",
       "      <td>24</td>\n",
       "      <td>4</td>\n",
       "      <td>16</td>\n",
       "      <td>16</td>\n",
       "      <td>11</td>\n",
       "      <td>NaN</td>\n",
       "      <td>50</td>\n",
       "      <td>86.17</td>\n",
       "      <td>2012</td>\n",
       "    </tr>\n",
       "    <tr>\n",
       "      <td>4</td>\n",
       "      <td>5</td>\n",
       "      <td>California Institute of Technology</td>\n",
       "      <td>USA</td>\n",
       "      <td>4</td>\n",
       "      <td>2</td>\n",
       "      <td>29</td>\n",
       "      <td>7</td>\n",
       "      <td>37</td>\n",
       "      <td>22</td>\n",
       "      <td>22</td>\n",
       "      <td>NaN</td>\n",
       "      <td>18</td>\n",
       "      <td>85.21</td>\n",
       "      <td>2012</td>\n",
       "    </tr>\n",
       "  </tbody>\n",
       "</table>\n",
       "</div>"
      ],
      "text/plain": [
       "   world_rank                            institution         country  \\\n",
       "0           1                     Harvard University             USA   \n",
       "1           2  Massachusetts Institute of Technology             USA   \n",
       "2           3                    Stanford University             USA   \n",
       "3           4                University of Cambridge  United Kingdom   \n",
       "4           5     California Institute of Technology             USA   \n",
       "\n",
       "   national_rank  quality_of_education  alumni_employment  quality_of_faculty  \\\n",
       "0              1                     7                  9                   1   \n",
       "1              2                     9                 17                   3   \n",
       "2              3                    17                 11                   5   \n",
       "3              1                    10                 24                   4   \n",
       "4              4                     2                 29                   7   \n",
       "\n",
       "   publications  influence  citations  broad_impact  patents   score  year  \n",
       "0             1          1          1           NaN        5  100.00  2012  \n",
       "1            12          4          4           NaN        1   91.67  2012  \n",
       "2             4          2          2           NaN       15   89.50  2012  \n",
       "3            16         16         11           NaN       50   86.17  2012  \n",
       "4            37         22         22           NaN       18   85.21  2012  "
      ]
     },
     "execution_count": 5,
     "metadata": {},
     "output_type": "execute_result"
    }
   ],
   "source": [
    "df.head()"
   ]
  },
  {
   "cell_type": "code",
   "execution_count": 13,
   "metadata": {},
   "outputs": [
    {
     "data": {
      "text/plain": [
       "Index(['world_rank', 'institution', 'country', 'national_rank',\n",
       "       'quality_of_education', 'alumni_employment', 'quality_of_faculty',\n",
       "       'publications', 'influence', 'citations', 'broad_impact', 'patents',\n",
       "       'score', 'year'],\n",
       "      dtype='object')"
      ]
     },
     "execution_count": 13,
     "metadata": {},
     "output_type": "execute_result"
    }
   ],
   "source": [
    "df.columns"
   ]
  },
  {
   "cell_type": "code",
   "execution_count": 7,
   "metadata": {},
   "outputs": [
    {
     "data": {
      "text/plain": [
       "2015    1000\n",
       "2014    1000\n",
       "2013     100\n",
       "2012     100\n",
       "Name: year, dtype: int64"
      ]
     },
     "execution_count": 7,
     "metadata": {},
     "output_type": "execute_result"
    }
   ],
   "source": [
    "df['year'].value_counts()"
   ]
  },
  {
   "cell_type": "code",
   "execution_count": 26,
   "metadata": {},
   "outputs": [],
   "source": [
    "df_2014=df[df['year']==2014]"
   ]
  },
  {
   "cell_type": "code",
   "execution_count": 39,
   "metadata": {},
   "outputs": [
    {
     "data": {
      "text/html": [
       "<div>\n",
       "<style scoped>\n",
       "    .dataframe tbody tr th:only-of-type {\n",
       "        vertical-align: middle;\n",
       "    }\n",
       "\n",
       "    .dataframe tbody tr th {\n",
       "        vertical-align: top;\n",
       "    }\n",
       "\n",
       "    .dataframe thead th {\n",
       "        text-align: right;\n",
       "    }\n",
       "</style>\n",
       "<table border=\"1\" class=\"dataframe\">\n",
       "  <thead>\n",
       "    <tr style=\"text-align: right;\">\n",
       "      <th></th>\n",
       "      <th>world_rank</th>\n",
       "      <th>national_rank</th>\n",
       "      <th>quality_of_education</th>\n",
       "      <th>alumni_employment</th>\n",
       "      <th>quality_of_faculty</th>\n",
       "      <th>publications</th>\n",
       "      <th>influence</th>\n",
       "      <th>citations</th>\n",
       "      <th>broad_impact</th>\n",
       "      <th>patents</th>\n",
       "      <th>score</th>\n",
       "      <th>year</th>\n",
       "    </tr>\n",
       "  </thead>\n",
       "  <tbody>\n",
       "    <tr>\n",
       "      <td>world_rank</td>\n",
       "      <td>1.000000</td>\n",
       "      <td>0.195299</td>\n",
       "      <td>0.599191</td>\n",
       "      <td>0.602440</td>\n",
       "      <td>0.573340</td>\n",
       "      <td>0.905481</td>\n",
       "      <td>0.870616</td>\n",
       "      <td>0.826578</td>\n",
       "      <td>0.938793</td>\n",
       "      <td>0.629804</td>\n",
       "      <td>-0.565914</td>\n",
       "      <td>NaN</td>\n",
       "    </tr>\n",
       "    <tr>\n",
       "      <td>national_rank</td>\n",
       "      <td>0.195299</td>\n",
       "      <td>1.000000</td>\n",
       "      <td>0.156770</td>\n",
       "      <td>0.084726</td>\n",
       "      <td>0.175268</td>\n",
       "      <td>0.297834</td>\n",
       "      <td>0.106753</td>\n",
       "      <td>0.130071</td>\n",
       "      <td>0.164519</td>\n",
       "      <td>0.124291</td>\n",
       "      <td>-0.176572</td>\n",
       "      <td>NaN</td>\n",
       "    </tr>\n",
       "    <tr>\n",
       "      <td>quality_of_education</td>\n",
       "      <td>0.599191</td>\n",
       "      <td>0.156770</td>\n",
       "      <td>1.000000</td>\n",
       "      <td>0.470712</td>\n",
       "      <td>0.696766</td>\n",
       "      <td>0.524470</td>\n",
       "      <td>0.550751</td>\n",
       "      <td>0.532442</td>\n",
       "      <td>0.526383</td>\n",
       "      <td>0.396164</td>\n",
       "      <td>-0.612997</td>\n",
       "      <td>NaN</td>\n",
       "    </tr>\n",
       "    <tr>\n",
       "      <td>alumni_employment</td>\n",
       "      <td>0.602440</td>\n",
       "      <td>0.084726</td>\n",
       "      <td>0.470712</td>\n",
       "      <td>1.000000</td>\n",
       "      <td>0.388204</td>\n",
       "      <td>0.466252</td>\n",
       "      <td>0.411454</td>\n",
       "      <td>0.453773</td>\n",
       "      <td>0.430298</td>\n",
       "      <td>0.410360</td>\n",
       "      <td>-0.516014</td>\n",
       "      <td>NaN</td>\n",
       "    </tr>\n",
       "    <tr>\n",
       "      <td>quality_of_faculty</td>\n",
       "      <td>0.573340</td>\n",
       "      <td>0.175268</td>\n",
       "      <td>0.696766</td>\n",
       "      <td>0.388204</td>\n",
       "      <td>1.000000</td>\n",
       "      <td>0.534302</td>\n",
       "      <td>0.561509</td>\n",
       "      <td>0.550790</td>\n",
       "      <td>0.547639</td>\n",
       "      <td>0.414953</td>\n",
       "      <td>-0.729051</td>\n",
       "      <td>NaN</td>\n",
       "    </tr>\n",
       "    <tr>\n",
       "      <td>publications</td>\n",
       "      <td>0.905481</td>\n",
       "      <td>0.297834</td>\n",
       "      <td>0.524470</td>\n",
       "      <td>0.466252</td>\n",
       "      <td>0.534302</td>\n",
       "      <td>1.000000</td>\n",
       "      <td>0.850849</td>\n",
       "      <td>0.795559</td>\n",
       "      <td>0.917320</td>\n",
       "      <td>0.587176</td>\n",
       "      <td>-0.532438</td>\n",
       "      <td>NaN</td>\n",
       "    </tr>\n",
       "    <tr>\n",
       "      <td>influence</td>\n",
       "      <td>0.870616</td>\n",
       "      <td>0.106753</td>\n",
       "      <td>0.550751</td>\n",
       "      <td>0.411454</td>\n",
       "      <td>0.561509</td>\n",
       "      <td>0.850849</td>\n",
       "      <td>1.000000</td>\n",
       "      <td>0.813194</td>\n",
       "      <td>0.918193</td>\n",
       "      <td>0.508547</td>\n",
       "      <td>-0.530202</td>\n",
       "      <td>NaN</td>\n",
       "    </tr>\n",
       "    <tr>\n",
       "      <td>citations</td>\n",
       "      <td>0.826578</td>\n",
       "      <td>0.130071</td>\n",
       "      <td>0.532442</td>\n",
       "      <td>0.453773</td>\n",
       "      <td>0.550790</td>\n",
       "      <td>0.795559</td>\n",
       "      <td>0.813194</td>\n",
       "      <td>1.000000</td>\n",
       "      <td>0.854777</td>\n",
       "      <td>0.501941</td>\n",
       "      <td>-0.530054</td>\n",
       "      <td>NaN</td>\n",
       "    </tr>\n",
       "    <tr>\n",
       "      <td>broad_impact</td>\n",
       "      <td>0.938793</td>\n",
       "      <td>0.164519</td>\n",
       "      <td>0.526383</td>\n",
       "      <td>0.430298</td>\n",
       "      <td>0.547639</td>\n",
       "      <td>0.917320</td>\n",
       "      <td>0.918193</td>\n",
       "      <td>0.854777</td>\n",
       "      <td>1.000000</td>\n",
       "      <td>0.549453</td>\n",
       "      <td>-0.536053</td>\n",
       "      <td>NaN</td>\n",
       "    </tr>\n",
       "    <tr>\n",
       "      <td>patents</td>\n",
       "      <td>0.629804</td>\n",
       "      <td>0.124291</td>\n",
       "      <td>0.396164</td>\n",
       "      <td>0.410360</td>\n",
       "      <td>0.414953</td>\n",
       "      <td>0.587176</td>\n",
       "      <td>0.508547</td>\n",
       "      <td>0.501941</td>\n",
       "      <td>0.549453</td>\n",
       "      <td>1.000000</td>\n",
       "      <td>-0.467902</td>\n",
       "      <td>NaN</td>\n",
       "    </tr>\n",
       "    <tr>\n",
       "      <td>score</td>\n",
       "      <td>-0.565914</td>\n",
       "      <td>-0.176572</td>\n",
       "      <td>-0.612997</td>\n",
       "      <td>-0.516014</td>\n",
       "      <td>-0.729051</td>\n",
       "      <td>-0.532438</td>\n",
       "      <td>-0.530202</td>\n",
       "      <td>-0.530054</td>\n",
       "      <td>-0.536053</td>\n",
       "      <td>-0.467902</td>\n",
       "      <td>1.000000</td>\n",
       "      <td>NaN</td>\n",
       "    </tr>\n",
       "    <tr>\n",
       "      <td>year</td>\n",
       "      <td>NaN</td>\n",
       "      <td>NaN</td>\n",
       "      <td>NaN</td>\n",
       "      <td>NaN</td>\n",
       "      <td>NaN</td>\n",
       "      <td>NaN</td>\n",
       "      <td>NaN</td>\n",
       "      <td>NaN</td>\n",
       "      <td>NaN</td>\n",
       "      <td>NaN</td>\n",
       "      <td>NaN</td>\n",
       "      <td>NaN</td>\n",
       "    </tr>\n",
       "  </tbody>\n",
       "</table>\n",
       "</div>"
      ],
      "text/plain": [
       "                      world_rank  national_rank  quality_of_education  \\\n",
       "world_rank              1.000000       0.195299              0.599191   \n",
       "national_rank           0.195299       1.000000              0.156770   \n",
       "quality_of_education    0.599191       0.156770              1.000000   \n",
       "alumni_employment       0.602440       0.084726              0.470712   \n",
       "quality_of_faculty      0.573340       0.175268              0.696766   \n",
       "publications            0.905481       0.297834              0.524470   \n",
       "influence               0.870616       0.106753              0.550751   \n",
       "citations               0.826578       0.130071              0.532442   \n",
       "broad_impact            0.938793       0.164519              0.526383   \n",
       "patents                 0.629804       0.124291              0.396164   \n",
       "score                  -0.565914      -0.176572             -0.612997   \n",
       "year                         NaN            NaN                   NaN   \n",
       "\n",
       "                      alumni_employment  quality_of_faculty  publications  \\\n",
       "world_rank                     0.602440            0.573340      0.905481   \n",
       "national_rank                  0.084726            0.175268      0.297834   \n",
       "quality_of_education           0.470712            0.696766      0.524470   \n",
       "alumni_employment              1.000000            0.388204      0.466252   \n",
       "quality_of_faculty             0.388204            1.000000      0.534302   \n",
       "publications                   0.466252            0.534302      1.000000   \n",
       "influence                      0.411454            0.561509      0.850849   \n",
       "citations                      0.453773            0.550790      0.795559   \n",
       "broad_impact                   0.430298            0.547639      0.917320   \n",
       "patents                        0.410360            0.414953      0.587176   \n",
       "score                         -0.516014           -0.729051     -0.532438   \n",
       "year                                NaN                 NaN           NaN   \n",
       "\n",
       "                      influence  citations  broad_impact   patents     score  \\\n",
       "world_rank             0.870616   0.826578      0.938793  0.629804 -0.565914   \n",
       "national_rank          0.106753   0.130071      0.164519  0.124291 -0.176572   \n",
       "quality_of_education   0.550751   0.532442      0.526383  0.396164 -0.612997   \n",
       "alumni_employment      0.411454   0.453773      0.430298  0.410360 -0.516014   \n",
       "quality_of_faculty     0.561509   0.550790      0.547639  0.414953 -0.729051   \n",
       "publications           0.850849   0.795559      0.917320  0.587176 -0.532438   \n",
       "influence              1.000000   0.813194      0.918193  0.508547 -0.530202   \n",
       "citations              0.813194   1.000000      0.854777  0.501941 -0.530054   \n",
       "broad_impact           0.918193   0.854777      1.000000  0.549453 -0.536053   \n",
       "patents                0.508547   0.501941      0.549453  1.000000 -0.467902   \n",
       "score                 -0.530202  -0.530054     -0.536053 -0.467902  1.000000   \n",
       "year                        NaN        NaN           NaN       NaN       NaN   \n",
       "\n",
       "                      year  \n",
       "world_rank             NaN  \n",
       "national_rank          NaN  \n",
       "quality_of_education   NaN  \n",
       "alumni_employment      NaN  \n",
       "quality_of_faculty     NaN  \n",
       "publications           NaN  \n",
       "influence              NaN  \n",
       "citations              NaN  \n",
       "broad_impact           NaN  \n",
       "patents                NaN  \n",
       "score                  NaN  \n",
       "year                   NaN  "
      ]
     },
     "execution_count": 39,
     "metadata": {},
     "output_type": "execute_result"
    }
   ],
   "source": [
    "df_2014.corr()"
   ]
  },
  {
   "cell_type": "code",
   "execution_count": 42,
   "metadata": {},
   "outputs": [
    {
     "data": {
      "text/plain": [
       "<matplotlib.axes._subplots.AxesSubplot at 0x249c295c4c8>"
      ]
     },
     "execution_count": 42,
     "metadata": {},
     "output_type": "execute_result"
    },
    {
     "data": {
      "image/png": "[encoded data removed]",
      "text/plain": [
       "<Figure size 432x288 with 2 Axes>"
      ]
     },
     "metadata": {
      "needs_background": "light"
     },
     "output_type": "display_data"
    }
   ],
   "source": [
    "sns.heatmap(df_2014.corr())"
   ]
  },
  {
   "cell_type": "code",
   "execution_count": 28,
   "metadata": {},
   "outputs": [
    {
     "data": {
      "text/plain": [
       "<seaborn.axisgrid.JointGrid at 0x249ba5566c8>"
      ]
     },
     "execution_count": 28,
     "metadata": {},
     "output_type": "execute_result"
    },
    {
     "data": {
      "image/png": "[encoded data removed]",
      "text/plain": [
       "<Figure size 432x432 with 3 Axes>"
      ]
     },
     "metadata": {
      "needs_background": "light"
     },
     "output_type": "display_data"
    }
   ],
   "source": [
    "sns.jointplot(x='score',y='world_rank',data=df_2014)"
   ]
  },
  {
   "cell_type": "code",
   "execution_count": 29,
   "metadata": {},
   "outputs": [
    {
     "data": {
      "text/plain": [
       "<seaborn.axisgrid.FacetGrid at 0x249bc4cb508>"
      ]
     },
     "execution_count": 29,
     "metadata": {},
     "output_type": "execute_result"
    },
    {
     "data": {
      "image/png": "[encoded data removed]",
      "text/plain": [
       "<Figure size 360x360 with 1 Axes>"
      ]
     },
     "metadata": {
      "needs_background": "light"
     },
     "output_type": "display_data"
    }
   ],
   "source": [
    "sns.lmplot(x='score',y='world_rank',data=df_2014)"
   ]
  },
  {
   "cell_type": "code",
   "execution_count": 12,
   "metadata": {},
   "outputs": [
    {
     "data": {
      "text/plain": [
       "<seaborn.axisgrid.JointGrid at 0x249ba33c248>"
      ]
     },
     "execution_count": 12,
     "metadata": {},
     "output_type": "execute_result"
    },
    {
     "data": {
      "image/png": "[encoded data removed]",
      "text/plain": [
       "<Figure size 432x432 with 3 Axes>"
      ]
     },
     "metadata": {
      "needs_background": "light"
     },
     "output_type": "display_data"
    }
   ],
   "source": [
    "sns.jointplot(x='score',y='quality_of_education',data=df)\n"
   ]
  },
  {
   "cell_type": "code",
   "execution_count": 30,
   "metadata": {},
   "outputs": [
    {
     "data": {
      "text/plain": [
       "<function matplotlib.pyplot.tight_layout(pad=1.08, h_pad=None, w_pad=None, rect=None)>"
      ]
     },
     "execution_count": 30,
     "metadata": {},
     "output_type": "execute_result"
    },
    {
     "data": {
      "image/png": "[encoded data removed]",
      "text/plain": [
       "<Figure size 432x288 with 1 Axes>"
      ]
     },
     "metadata": {
      "needs_background": "light"
     },
     "output_type": "display_data"
    }
   ],
   "source": [
    "sns.countplot(x='country',data=df_2014)\n",
    "plt.tight_layout"
   ]
  },
  {
   "cell_type": "code",
   "execution_count": 16,
   "metadata": {},
   "outputs": [],
   "source": [
    "from sklearn.model_selection import train_test_split"
   ]
  },
  {
   "cell_type": "code",
   "execution_count": 34,
   "metadata": {},
   "outputs": [],
   "source": [
    "X= df_2014.drop(['institution','country','world_rank','score'],axis=1)\n",
    "y= df_2014['score']"
   ]
  },
  {
   "cell_type": "code",
   "execution_count": 35,
   "metadata": {},
   "outputs": [],
   "source": [
    "X_train, X_test, y_train, y_test = train_test_split(X, y, test_size=0.3)"
   ]
  },
  {
   "cell_type": "code",
   "execution_count": 36,
   "metadata": {},
   "outputs": [],
   "source": [
    "from sklearn.linear_model import LinearRegression"
   ]
  },
  {
   "cell_type": "code",
   "execution_count": 37,
   "metadata": {},
   "outputs": [],
   "source": [
    "lm= LinearRegression()"
   ]
  },
  {
   "cell_type": "code",
   "execution_count": 38,
   "metadata": {},
   "outputs": [
    {
     "data": {
      "text/plain": [
       "LinearRegression(copy_X=True, fit_intercept=True, n_jobs=None, normalize=False)"
      ]
     },
     "execution_count": 38,
     "metadata": {},
     "output_type": "execute_result"
    }
   ],
   "source": [
    "lm.fit(X_train,y_train)"
   ]
  },
  {
   "cell_type": "code",
   "execution_count": 43,
   "metadata": {},
   "outputs": [],
   "source": [
    "predict= lm.predict(X_test)"
   ]
  },
  {
   "cell_type": "code",
   "execution_count": 44,
   "metadata": {},
   "outputs": [
    {
     "name": "stdout",
     "output_type": "stream",
     "text": [
      "[-0.00474374 -0.00689565 -0.00898688 -0.06718207  0.00135205 -0.00027448\n",
      "  0.00017967 -0.00218911 -0.00267024  0.        ]\n"
     ]
    }
   ],
   "source": [
    "print(lm.coef_)"
   ]
  },
  {
   "cell_type": "code",
   "execution_count": 45,
   "metadata": {},
   "outputs": [],
   "source": [
    "from sklearn import metrics"
   ]
  },
  {
   "cell_type": "code",
   "execution_count": 47,
   "metadata": {},
   "outputs": [
    {
     "data": {
      "text/plain": [
       "2.005836761340528"
      ]
     },
     "execution_count": 47,
     "metadata": {},
     "output_type": "execute_result"
    }
   ],
   "source": [
    "metrics.mean_absolute_error(y_test,predict)"
   ]
  },
  {
   "cell_type": "code",
   "execution_count": 50,
   "metadata": {},
   "outputs": [
    {
     "data": {
      "text/plain": [
       "14.827367859179661"
      ]
     },
     "execution_count": 50,
     "metadata": {},
     "output_type": "execute_result"
    }
   ],
   "source": [
    "x=metrics.mean_squared_error(y_test,predict)\n",
    "x"
   ]
  },
  {
   "cell_type": "code",
   "execution_count": 51,
   "metadata": {},
   "outputs": [
    {
     "data": {
      "text/plain": [
       "3.850632137608014"
      ]
     },
     "execution_count": 51,
     "metadata": {},
     "output_type": "execute_result"
    }
   ],
   "source": [
    "np.sqrt(x)"
   ]
  },
  {
   "cell_type": "code",
   "execution_count": null,
   "metadata": {},
   "outputs": [],
   "source": []
  }
 ],
 "metadata": {
  "kernelspec": {
   "display_name": "Python 3",
   "language": "python",
   "name": "python3"
  },
  "language_info": {
   "codemirror_mode": {
    "name": "ipython",
    "version": 3
   },
   "file_extension": ".py",
   "mimetype": "text/x-python",
   "name": "python",
   "nbconvert_exporter": "python",
   "pygments_lexer": "ipython3",
   "version": "3.7.4"
  }
 },
 "nbformat": 4,
 "nbformat_minor": 2
}
